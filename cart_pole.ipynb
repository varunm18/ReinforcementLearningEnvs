{
  "cells": [
    {
      "cell_type": "code",
      "execution_count": 16,
      "metadata": {},
      "outputs": [],
      "source": [
        "import torch\n",
        "import torch.nn as nn\n",
        "import torch.nn.functional as F\n",
        "\n",
        "class Model(nn.Module):\n",
        "    def __init__(self):\n",
        "        super().__init__()\n",
        "        self.dense1 = nn.Linear(4, 64)\n",
        "        self.dense2 = nn.Linear(64, 2)\n",
        "\n",
        "        nn.init.zeros_(self.dense1.bias)\n",
        "        nn.init.zeros_(self.dense2.bias)\n",
        "        \n",
        "        nn.init.kaiming_normal_(self.dense1.weight, nonlinearity='relu')\n",
        "        with torch.no_grad():\n",
        "            self.dense2.weight *= 0.1\n",
        "\n",
        "    def forward(self, x):\n",
        "        x = F.relu(self.dense1(x))\n",
        "        x = F.softmax(self.dense2(x), dim=1)\n",
        "        return x"
      ]
    },
    {
      "cell_type": "code",
      "execution_count": 80,
      "metadata": {
        "id": "zO8w97znOVst"
      },
      "outputs": [
        {
          "name": "stdout",
          "output_type": "stream",
          "text": [
            "New max of 16.0 in episode 1\n",
            "New max of 82.0 in episode 2\n",
            "New max of 105.0 in episode 100\n",
            "New max of 110.0 in episode 129\n",
            "New max of 111.0 in episode 135\n",
            "New max of 120.0 in episode 140\n",
            "New max of 167.0 in episode 153\n",
            "New max of 175.0 in episode 184\n",
            "New max of 240.0 in episode 191\n",
            "New max of 241.0 in episode 240\n",
            "New max of 266.0 in episode 245\n",
            "New max of 313.0 in episode 248\n",
            "New max of 323.0 in episode 302\n",
            "New max of 329.0 in episode 305\n",
            "New max of 341.0 in episode 323\n",
            "New max of 416.0 in episode 346\n",
            "New max of 468.0 in episode 407\n",
            "New max of 482.0 in episode 414\n",
            "New max of 498.0 in episode 415\n",
            "New max of 500.0 in episode 419\n",
            "Episodes (0, 499): Avg Loss- -1.5041765656471253, Avg Return- 141.282\n",
            "Episodes (500, 999): Avg Loss- -3.113993576079607, Avg Return- 329.422\n",
            "Episodes (1000, 1499): Avg Loss- -2.9661052666306498, Avg Return- 431.394\n",
            "Episodes (1500, 1999): Avg Loss- -2.8777346423864363, Avg Return- 438.16\n",
            "Episodes (2000, 2499): Avg Loss- -1.9154480222463608, Avg Return- 426.786\n",
            "Episodes (2500, 2999): Avg Loss- -2.516116078063846, Avg Return- 439.488\n",
            "Episodes (3000, 3499): Avg Loss- -2.808875457406044, Avg Return- 422.924\n",
            "Episodes (3500, 3999): Avg Loss- -3.0799004802703855, Avg Return- 404.884\n"
          ]
        }
      ],
      "source": [
        "import gymnasium as gym\n",
        "import matplotlib.pyplot as plt\n",
        "from IPython.display import clear_output\n",
        "import time\n",
        "\n",
        "EPISODES = 4000\n",
        "\n",
        "env = gym.make(\"CartPole-v1\", render_mode=\"rgb_array\")\n",
        "\n",
        "policy = Model()\n",
        "optimizer = torch.optim.Adam(policy.parameters(), lr=1e-3)\n",
        "\n",
        "discount = 0.99\n",
        "losses = []\n",
        "rewards = []\n",
        "max_reward = 0\n",
        "\n",
        "for e in range(EPISODES):\n",
        "    observation, info = env.reset()\n",
        "\n",
        "    log_probs = []\n",
        "    episode_rewards = []\n",
        "    total_episode_reward = 0\n",
        "\n",
        "    episode_over = False\n",
        "    while not episode_over:\n",
        "\n",
        "        state = torch.from_numpy(observation).view(1, -1)\n",
        "\n",
        "        # action = env.action_space.sample()  # agent policy that uses the observation and info\n",
        "        probs = policy(state)\n",
        "        action = torch.multinomial(probs, num_samples=1).item()\n",
        "        observation, reward, terminated, truncated, info = env.step(action)\n",
        "\n",
        "        log_probs.append(torch.log(probs[0, action]))\n",
        "        episode_rewards.append(reward)\n",
        "        total_episode_reward += reward\n",
        "\n",
        "        episode_over = terminated or truncated\n",
        "    \n",
        "    rewards.append(total_episode_reward)\n",
        "    if total_episode_reward > max_reward:\n",
        "        max_reward = total_episode_reward\n",
        "        print(f\"New max of {max_reward} in episode {e + 1}\")\n",
        "\n",
        "    returns = []\n",
        "    R = 0\n",
        "    for r in reversed(episode_rewards):\n",
        "        R = r + discount * R\n",
        "        returns.insert(0, R)\n",
        "\n",
        "    returns = torch.tensor(returns)\n",
        "    returns = (returns - returns.mean()) / (returns.std() + 1e-8)\n",
        "\n",
        "    loss = 0\n",
        "    optimizer.zero_grad()\n",
        "    for log_prob, R in zip(log_probs, returns):\n",
        "        loss += -log_prob * R\n",
        "        \n",
        "    loss.backward()\n",
        "    nn.utils.clip_grad_norm_(policy.parameters(), 1.0)\n",
        "    optimizer.step()\n",
        "\n",
        "    losses.append(loss.item())\n",
        "\n",
        "    if (e + 1) % 500 == 0:\n",
        "        print(f\"Episodes {(e - 499, e)}: Avg Loss- {sum(losses[e-499:e+1])/500}, Avg Return- {sum(rewards[e-499:e+1])/500}\")\n",
        "        \n",
        "env.close()"
      ]
    },
    {
      "cell_type": "code",
      "execution_count": 90,
      "metadata": {},
      "outputs": [
        {
          "data": {
            "text/plain": [
              "[<matplotlib.lines.Line2D at 0x175f3aed0>]"
            ]
          },
          "execution_count": 90,
          "metadata": {},
          "output_type": "execute_result"
        },
        {
          "data": {
            "image/png": "[encoded data removed]",
            "text/plain": [
              "<Figure size 640x480 with 1 Axes>"
            ]
          },
          "metadata": {},
          "output_type": "display_data"
        },
        {
          "data": {
            "image/png": "[encoded data removed]",
            "text/plain": [
              "<Figure size 640x480 with 1 Axes>"
            ]
          },
          "metadata": {},
          "output_type": "display_data"
        }
      ],
      "source": [
        "import numpy as np\n",
        "\n",
        "def moving_average(data, window_size):\n",
        "    weights = np.ones(window_size) / window_size\n",
        "    return np.convolve(data, weights, mode='valid')\n",
        "\n",
        "plt.figure()\n",
        "plt.plot(moving_average(rewards, 500))\n",
        "plt.figure()\n",
        "plt.plot(moving_average(losses, 500))"
      ]
    },
    {
      "cell_type": "code",
      "execution_count": 82,
      "metadata": {},
      "outputs": [
        {
          "data": {
            "image/png": "[encoded data removed]",
            "text/plain": [
              "<Figure size 640x480 with 1 Axes>"
            ]
          },
          "metadata": {},
          "output_type": "display_data"
        },
        {
          "name": "stdout",
          "output_type": "stream",
          "text": [
            "Final Return: 500.0\n",
            "Average Return over 500 episodes: 500.0\n"
          ]
        }
      ],
      "source": [
        "show = True\n",
        "rewards = []\n",
        "\n",
        "for _ in range(500):\n",
        "    observation, info = env.reset()\n",
        "    episode_reward = 0\n",
        "    episode_over = False\n",
        "    while not episode_over:\n",
        "        if show:\n",
        "            frame = env.render()\n",
        "            clear_output(wait=True)\n",
        "            plt.imshow(frame)\n",
        "            plt.axis('off')\n",
        "            plt.show()\n",
        "            time.sleep(0.002)\n",
        "\n",
        "        with torch.no_grad():\n",
        "            probs = policy(torch.from_numpy(observation).view(-1, 4))\n",
        "            action = torch.argmax(probs, dim=1).item()\n",
        "\n",
        "        observation, reward, terminated, truncated, info = env.step(action)\n",
        "        episode_reward += reward\n",
        "\n",
        "        episode_over = terminated or truncated\n",
        "\n",
        "    if show:\n",
        "        show = False\n",
        "        print(f\"Final Return: {episode_reward}\")\n",
        "\n",
        "    rewards.append(episode_reward)\n",
        "\n",
        "print(f\"Average Return over 500 episodes: {sum(rewards) / 500}\")\n",
        "\n",
        "env.close()"
      ]
    },
    {
      "cell_type": "code",
      "execution_count": null,
      "metadata": {},
      "outputs": [],
      "source": [
        "torch.save(policy.state_dict(), f\"models/cart_pole/REINFORCE_500\")"
      ]
    }
  ],
  "metadata": {
    "colab": {
      "authorship_tag": "ABX9TyM0SLIcI5gGHM5SyCw/c+f6",
      "include_colab_link": true,
      "provenance": []
    },
    "kernelspec": {
      "display_name": "Python 3",
      "name": "python3"
    },
    "language_info": {
      "codemirror_mode": {
        "name": "ipython",
        "version": 3
      },
      "file_extension": ".py",
      "mimetype": "text/x-python",
      "name": "python",
      "nbconvert_exporter": "python",
      "pygments_lexer": "ipython3",
      "version": "3.10.12"
    }
  },
  "nbformat": 4,
  "nbformat_minor": 0
}
