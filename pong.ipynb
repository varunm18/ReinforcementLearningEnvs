{
 "cells": [
  {
   "cell_type": "code",
   "execution_count": 1,
   "id": "dc220136",
   "metadata": {},
   "outputs": [],
   "source": [
    "import torch\n",
    "import torch.nn as nn\n",
    "import torch.nn.functional as F\n",
    "\n",
    "class QNetwork(nn.Module):\n",
    "    def __init__(self):\n",
    "        super().__init__()\n",
    "        self.net = nn.Sequential(\n",
    "            nn.Conv2d(in_channels=4, out_channels=32, kernel_size=8, stride=4), # 4, 84, 84 -> 32, 20, 20\n",
    "            nn.ReLU(),\n",
    "            nn.Conv2d(in_channels=32, out_channels=64, kernel_size=4, stride=2), # 64, 9, 9\n",
    "            nn.ReLU(),\n",
    "            nn.Conv2d(in_channels=64, out_channels=64, kernel_size=3, stride=1), # 64, 7, 7\n",
    "            nn.ReLU(),\n",
    "\n",
    "            nn.Flatten(),\n",
    "            nn.Linear(64 * 7 * 7, 512),\n",
    "            nn.ReLU(),\n",
    "            nn.Linear(512, 6),\n",
    "        )\n",
    "\n",
    "        self.__inititalize_weights()\n",
    "    \n",
    "    def __inititalize_weights(self):\n",
    "        for m in self.modules():\n",
    "            if isinstance(m, (nn.Conv2d, nn.Linear)):\n",
    "                nn.init.kaiming_normal_(m.weight, nonlinearity='relu')\n",
    "                nn.init.zeros_(m.bias)\n",
    "\n",
    "    def forward(self, x):\n",
    "        x = x / 255.0\n",
    "        return self.net(x)"
   ]
  },
  {
   "cell_type": "code",
   "execution_count": null,
   "id": "9be76744",
   "metadata": {},
   "outputs": [
    {
     "name": "stdout",
     "output_type": "stream",
     "text": [
      "Box(0, 255, (210, 160, 3), uint8)\n",
      "Box(0, 255, (210, 160), uint8)\n"
     ]
    }
   ],
   "source": [
    "from trainer import DDQN\n",
    "import gymnasium as gym\n",
    "from gymnasium.wrappers import FrameStackObservation, GrayscaleObservation, ResizeObservation\n",
    "import ale_py\n",
    "\n",
    "EPISODES = 10000\n",
    "\n",
    "gym.register_envs(ale_py)\n",
    "\n",
    "env = gym.make(\"ALE/Pong-v5\", render_mode=\"rgb_array\", frameskip=1)\n",
    "env = GrayscaleObservation(env)\n",
    "env = ResizeObservation(env, shape=(84,84))\n",
    "env = FrameStackObservation(env, stack_size=4)\n",
    "\n",
    "ddqn = DDQN(env, QNetwork, buffer_size=100000, batch_size=32,\n",
    "                    gamma=0.99, lr=1e-4, epsilon_start=1.0, \n",
    "                    epsilon_end=0.01, epsilon_decay=0.995,\n",
    "                    target_update_interval=1000)\n",
    "rewards, losses = ddqn.train(episodes=EPISODES, stats_interval=50)"
   ]
  },
  {
   "cell_type": "code",
   "execution_count": null,
   "id": "03d2eac7",
   "metadata": {},
   "outputs": [],
   "source": []
  }
 ],
 "metadata": {
  "kernelspec": {
   "display_name": "Python 3",
   "language": "python",
   "name": "python3"
  },
  "language_info": {
   "codemirror_mode": {
    "name": "ipython",
    "version": 3
   },
   "file_extension": ".py",
   "mimetype": "text/x-python",
   "name": "python",
   "nbconvert_exporter": "python",
   "pygments_lexer": "ipython3",
   "version": "3.8.10"
  }
 },
 "nbformat": 4,
 "nbformat_minor": 5
}
