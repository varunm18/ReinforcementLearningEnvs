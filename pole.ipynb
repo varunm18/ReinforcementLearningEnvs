{
  "cells": [
    {
      "cell_type": "code",
      "execution_count": null,
      "metadata": {},
      "outputs": [],
      "source": [
        "import torch\n",
        "import torch.nn as nn\n",
        "import torch.nn.functional as F\n",
        "\n",
        "class Model(nn.Module):\n",
        "    def __init__(self):\n",
        "        super().__init__()\n",
        "        self.dense1 = nn.Linear(4, 64)\n",
        "        self.dense2 = nn.Linear(64, 128)\n",
        "        self.dense3 = nn.Linear(128, 2)\n",
        "\n",
        "        nn.init.kaiming_normal_(self.dense1.weight, nonlinearity='relu')\n",
        "        nn.init.kaiming_normal_(self.dense2.weight, nonlinearity='relu')\n",
        "        with torch.no_grad():\n",
        "            self.dense3.weight *= 0.1\n",
        "\n",
        "    def forward(self, x):\n",
        "        x = F.relu(self.dense1(x))\n",
        "        x = F.relu(self.dense2(x))\n",
        "        x = F.softmax(self.dense3(x), dim=1)\n",
        "        return x"
      ]
    },
    {
      "cell_type": "code",
      "execution_count": null,
      "metadata": {
        "id": "zO8w97znOVst"
      },
      "outputs": [
        {
          "name": "stdout",
          "output_type": "stream",
          "text": [
            "New max of 69.0\n",
            "Average Loss from Episodes 0: 0.02562105655670166\n",
            "New max of 86.0\n",
            "Average Loss from Episodes (0, 500): -0.4398626387119293\n",
            "New max of 96.0\n",
            "New max of 101.0\n",
            "New max of 117.0\n",
            "New max of 119.0\n",
            "New max of 122.0\n",
            "New max of 192.0\n",
            "Average Loss from Episodes (500, 1000): -1.007058024406433\n",
            "New max of 199.0\n",
            "New max of 228.0\n",
            "New max of 249.0\n",
            "Average Loss from Episodes (1000, 1500): -1.9265271425247192\n",
            "New max of 278.0\n",
            "Average Loss from Episodes (1500, 2000): -4.745035171508789\n",
            "New max of 321.0\n",
            "New max of 340.0\n",
            "New max of 367.0\n",
            "New max of 399.0\n",
            "New max of 462.0\n",
            "New max of 469.0\n",
            "Average Loss from Episodes (2000, 2500): -13.397629737854004\n",
            "New max of 493.0\n",
            "New max of 500.0\n",
            "Average Loss from Episodes (2500, 3000): -27.868492126464844\n",
            "Average Loss from Episodes (3000, 3500): -53.96236038208008\n",
            "Average Loss from Episodes (3500, 4000): -42.89274215698242\n"
          ]
        },
        {
          "ename": "KeyboardInterrupt",
          "evalue": "",
          "output_type": "error",
          "traceback": [
            "\u001b[0;31m---------------------------------------------------------------------------\u001b[0m",
            "\u001b[0;31mKeyboardInterrupt\u001b[0m                         Traceback (most recent call last)",
            "Cell \u001b[0;32mIn[177], line 35\u001b[0m\n\u001b[1;32m     25\u001b[0m \u001b[38;5;28;01mwhile\u001b[39;00m \u001b[38;5;129;01mnot\u001b[39;00m episode_over:\n\u001b[1;32m     26\u001b[0m     \u001b[38;5;66;03m# frame = env.render()\u001b[39;00m\n\u001b[1;32m     27\u001b[0m     \u001b[38;5;66;03m# clear_output(wait=True)\u001b[39;00m\n\u001b[0;32m   (...)\u001b[0m\n\u001b[1;32m     32\u001b[0m \n\u001b[1;32m     33\u001b[0m     \u001b[38;5;66;03m# action = env.action_space.sample()  # agent policy that uses the observation and info\u001b[39;00m\n\u001b[1;32m     34\u001b[0m     probs \u001b[38;5;241m=\u001b[39m policy(torch\u001b[38;5;241m.\u001b[39mfrom_numpy(observation)\u001b[38;5;241m.\u001b[39mview(\u001b[38;5;241m1\u001b[39m, \u001b[38;5;241m-\u001b[39m\u001b[38;5;241m1\u001b[39m))\n\u001b[0;32m---> 35\u001b[0m     action \u001b[38;5;241m=\u001b[39m \u001b[43mtorch\u001b[49m\u001b[38;5;241;43m.\u001b[39;49m\u001b[43mmultinomial\u001b[49m\u001b[43m(\u001b[49m\u001b[43mprobs\u001b[49m\u001b[43m,\u001b[49m\u001b[43m \u001b[49m\u001b[43mnum_samples\u001b[49m\u001b[38;5;241;43m=\u001b[39;49m\u001b[38;5;241;43m1\u001b[39;49m\u001b[43m)\u001b[49m\u001b[38;5;241m.\u001b[39mitem()\n\u001b[1;32m     36\u001b[0m     observation, reward, terminated, truncated, info \u001b[38;5;241m=\u001b[39m env\u001b[38;5;241m.\u001b[39mstep(action)\n\u001b[1;32m     38\u001b[0m     steps\u001b[38;5;241m.\u001b[39mappend((observation, action, reward))\n",
            "\u001b[0;31mKeyboardInterrupt\u001b[0m: "
          ]
        }
      ],
      "source": [
        "import gymnasium as gym\n",
        "import matplotlib.pyplot as plt\n",
        "from IPython.display import clear_output\n",
        "import time\n",
        "\n",
        "EPISODES = 10000\n",
        "\n",
        "env = gym.make(\"CartPole-v1\", render_mode=\"rgb_array\")\n",
        "\n",
        "policy = Model()\n",
        "optimizer = torch.optim.Adam(policy.parameters(), lr=1e-4)\n",
        "\n",
        "discount = 0.99\n",
        "losses = []\n",
        "rewards = []\n",
        "max_reward = 0\n",
        "\n",
        "for e in range(EPISODES):\n",
        "    observation, info = env.reset()\n",
        "\n",
        "    steps = []\n",
        "\n",
        "    episode_over = False\n",
        "    running = 0\n",
        "    while not episode_over:\n",
        "        # frame = env.render()\n",
        "        # clear_output(wait=True)\n",
        "        # plt.imshow(frame)\n",
        "        # plt.axis('off')\n",
        "        # plt.show()\n",
        "        # time.sleep(0.002)\n",
        "\n",
        "        # action = env.action_space.sample()  # agent policy that uses the observation and info\n",
        "        probs = policy(torch.from_numpy(observation).view(1, -1))\n",
        "        action = torch.multinomial(probs, num_samples=1).item()\n",
        "        observation, reward, terminated, truncated, info = env.step(action)\n",
        "\n",
        "        steps.append((observation, action, reward))\n",
        "        running += reward\n",
        "\n",
        "        episode_over = terminated or truncated\n",
        "    \n",
        "    rewards.append(running)\n",
        "    if running > max_reward:\n",
        "        max_reward = running\n",
        "        print(f\"New max of {max_reward}\")\n",
        "\n",
        "    returns = []\n",
        "    R = 0\n",
        "    for _, _, r in reversed(steps):\n",
        "        R = r + discount * R\n",
        "        returns.insert(0, R)\n",
        "\n",
        "    returns = torch.tensor(returns)\n",
        "    returns = (returns - returns.mean()) / (returns.std() + 1e-8)\n",
        "\n",
        "    loss = 0\n",
        "    optimizer.zero_grad()\n",
        "    for (s, a, _), R in zip(steps, returns):\n",
        "        prob = policy(torch.from_numpy(s).view(1, -1))\n",
        "        loss += -prob[0, a].log() * R\n",
        "\n",
        "    loss.backward()\n",
        "    nn.utils.clip_grad_norm_(policy.parameters(), 1.0)\n",
        "    optimizer.step()\n",
        "\n",
        "    losses.append(loss)\n",
        "\n",
        "    if e % 500 == 0 and e > 0:\n",
        "        print(f\"Episodes {(e - 500, e)}: Avg Loss- {sum(losses[e-500:e])/500}, Avg Return- {sum(rewards[e-500:e])/len(rewards)}\")\n",
        "        \n",
        "env.close()"
      ]
    },
    {
      "cell_type": "code",
      "execution_count": null,
      "metadata": {},
      "outputs": [
        {
          "data": {
            "image/png": "[encoded data removed]",
            "text/plain": [
              "<Figure size 640x480 with 1 Axes>"
            ]
          },
          "metadata": {},
          "output_type": "display_data"
        }
      ],
      "source": [
        "observation, info = env.reset()\n",
        "\n",
        "episode_over = False\n",
        "running_R = 0\n",
        "while not episode_over:\n",
        "    frame = env.render()\n",
        "    clear_output(wait=True)\n",
        "    plt.imshow(frame)\n",
        "    plt.axis('off')\n",
        "    plt.show()\n",
        "    time.sleep(0.002)\n",
        "\n",
        "    action = env.action_space.sample()  # agent policy that uses the observation and info\n",
        "    # probs = policy(torch.from_numpy(observation).view(-1, 4))\n",
        "    # action = torch.multinomial(probs, num_samples=1).item()\n",
        "    observation, reward, terminated, truncated, info = env.step(action)\n",
        "    running_R += reward\n",
        "\n",
        "    episode_over = terminated or truncated\n",
        "        \n",
        "env.close()\n",
        "\n",
        "print(running_R)"
      ]
    },
    {
      "cell_type": "code",
      "execution_count": null,
      "metadata": {},
      "outputs": [],
      "source": []
    }
  ],
  "metadata": {
    "colab": {
      "authorship_tag": "ABX9TyM0SLIcI5gGHM5SyCw/c+f6",
      "include_colab_link": true,
      "provenance": []
    },
    "kernelspec": {
      "display_name": "Python 3",
      "name": "python3"
    },
    "language_info": {
      "codemirror_mode": {
        "name": "ipython",
        "version": 3
      },
      "file_extension": ".py",
      "mimetype": "text/x-python",
      "name": "python",
      "nbconvert_exporter": "python",
      "pygments_lexer": "ipython3",
      "version": "3.10.12"
    }
  },
  "nbformat": 4,
  "nbformat_minor": 0
}
